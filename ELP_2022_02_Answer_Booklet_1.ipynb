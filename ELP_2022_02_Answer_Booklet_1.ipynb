{
  "cells": [
    {
      "cell_type": "markdown",
      "metadata": {
        "id": "view-in-github",
        "colab_type": "text"
      },
      "source": [
        "<a href=\"https://colab.research.google.com/github/seelisher/Yixiao-Li_Exam_Answer/blob/main/ELP_2022_02_Answer_Booklet_1.ipynb\" target=\"_parent\"><img src=\"https://colab.research.google.com/assets/colab-badge.svg\" alt=\"Open In Colab\"/></a>"
      ]
    },
    {
      "cell_type": "markdown",
      "source": [
        "##Student Name: Yixiao Li\n",
        "\n",
        "##Student ID: 20526379 "
      ],
      "metadata": {
        "id": "ZPFbmzbUCqxe"
      },
      "id": "ZPFbmzbUCqxe"
    },
    {
      "cell_type": "markdown",
      "metadata": {
        "id": "JQH5KBd-t5eH"
      },
      "source": [
        "## Question 1 [40 Marks]:\n",
        "There is much more to creating a program than writing code. In ISYS5002, we followed a six-phase development cycle. Demonstrate the first four steps of the development cycle by **designing** an application that helps tourists visiting Australia by converting American dollars to Australian dollars. The program should allow the user to enter a currency value in USD and then display its value in AUD. \n",
        "\n",
        "`The current rate of exchange for USD to AUD is: 1 USD = 1.56 AUD.`\n",
        "\n",
        "\n"
      ],
      "id": "JQH5KBd-t5eH"
    },
    {
      "cell_type": "markdown",
      "source": [
        "**ANSWER: Program Design**   <*Add code/text cells as needed*>\n",
        "\n",
        "\n",
        "\n",
        "\n",
        "\n",
        "\n",
        "\n",
        "\n",
        "\n"
      ],
      "metadata": {
        "id": "FvQHYQujSSFk"
      },
      "id": "FvQHYQujSSFk"
    },
    {
      "cell_type": "code",
      "source": [
        "fx = 1.56\n",
        "usd = eval(input('Please put in the number of American dollars:'))\n",
        "aud = usd * fx\n",
        "print('The value in AUD is', aud)"
      ],
      "metadata": {
        "colab": {
          "base_uri": "https://localhost:8080/"
        },
        "id": "0BuxsKWo876N",
        "outputId": "75ccb70d-a563-4cae-a996-3889ed0ccf0d"
      },
      "id": "0BuxsKWo876N",
      "execution_count": null,
      "outputs": [
        {
          "output_type": "stream",
          "name": "stdout",
          "text": [
            "Please put in the number of American dollars:3000\n",
            "The value in AUD is 4680.0\n"
          ]
        }
      ]
    },
    {
      "cell_type": "markdown",
      "source": [
        "**Implement** your design. Your implementation should follow the best practices and demonstrate the last two steps of the methodology. This requirement includes input validation and testing. \n",
        "\n",
        "Save the Colab Notebook to your GitHub repository.\n"
      ],
      "metadata": {
        "id": "ZGPychQzSAxo"
      },
      "id": "ZGPychQzSAxo"
    },
    {
      "cell_type": "markdown",
      "source": [
        "**ANSWER: Program Implementation**  <*Add code/text cells as needed*>"
      ],
      "metadata": {
        "id": "H1VSUx_uSlam"
      },
      "id": "H1VSUx_uSlam"
    },
    {
      "cell_type": "code",
      "source": [
        "fx = 1.56\n",
        "# use indefinite loop until one valid input is typed.\n",
        "while True:\n",
        "    try:\n",
        "        usd = eval(input('Please put in the number of American dollars:'))  # read in user data\n",
        "        # check whether what the user has typed is valid\n",
        "        if type(usd) in [int, float]:  # Only integer or float number is valid\n",
        "            aud = usd * fx\n",
        "            print('The value in AUD is', aud)\n",
        "            break\n",
        "    # If the input is not valid, print warning to user for further input\n",
        "    except:\n",
        "        print('Please ensure data type to be integer or float number')"
      ],
      "metadata": {
        "id": "hQonnn4JSu1N",
        "colab": {
          "base_uri": "https://localhost:8080/"
        },
        "outputId": "c507076c-237a-47e0-a005-29c1c5cb0d50"
      },
      "execution_count": null,
      "outputs": [
        {
          "output_type": "stream",
          "name": "stdout",
          "text": [
            "Please put in the number of American dollars:2570\n",
            "The value in AUD is 4009.2000000000003\n"
          ]
        }
      ],
      "id": "hQonnn4JSu1N"
    },
    {
      "cell_type": "markdown",
      "id": "75e13390",
      "metadata": {
        "id": "75e13390"
      },
      "source": [
        "## Question 2 [20 Marks]:\n",
        "\n",
        "The `elp_cheer` function repeats the given word the specified number of times and then attaches exclamation marks at the end of the words.\n",
        "\n",
        "The code is not working. It contains errors and does not follow industry best practices. **Fix the mistakes, apply PEP 8 coding best practices and include appropriate comments to explain the code**. Save the Notebook to your GitHub repository."
      ]
    },
    {
      "cell_type": "code",
      "execution_count": null,
      "id": "3abab3b5",
      "metadata": {
        "id": "3abab3b5",
        "colab": {
          "base_uri": "https://localhost:8080/",
          "height": 135
        },
        "outputId": "814f75f4-ba18-4125-8e8d-af3e7b185116"
      },
      "outputs": [
        {
          "output_type": "error",
          "ename": "IndentationError",
          "evalue": "ignored",
          "traceback": [
            "\u001b[0;36m  File \u001b[0;32m\"<ipython-input-5-e1cabd8c9f72>\"\u001b[0;36m, line \u001b[0;32m14\u001b[0m\n\u001b[0;31m    if case is False:\u001b[0m\n\u001b[0m    ^\u001b[0m\n\u001b[0;31mIndentationError\u001b[0m\u001b[0;31m:\u001b[0m unexpected indent\n"
          ]
        }
      ],
      "source": [
        "def elp_cheer(word, number, case):\n",
        "  '''\n",
        "  Sample output\n",
        "  >>> elp_cheer('hurray', 3, True)\n",
        "  'HURRAY HURRAY HURRAY !!!'\n",
        "  >>> elp_cheer('Hurray', 4, False)\n",
        "  'Hurray Hurray Hurray Hurray !!!'\n",
        "  >>> elp_cheer('hurray', 5, False)\n",
        "  'hurray hurray hurray hurray hurray !!!'\n",
        "  '''\n",
        "\n",
        "cheerword = word + \" \" * number\n",
        "    \n",
        "    if case is False:\n",
        "    cheerwordnew = cheerword.Upper() + '!!!'\n",
        "    else\n",
        "    cheerwordnew = cheerword\n",
        "\n",
        "return cheerwordnew\n"
      ]
    },
    {
      "cell_type": "code",
      "source": [
        "def elp_cheer(word, number, case):\n",
        "  '''\n",
        "  Sample output\n",
        "  >>> elp_cheer('hurray', 3, True)\n",
        "  'HURRAY HURRAY HURRAY !!!'\n",
        "  >>> elp_cheer('Hurray', 4, False)\n",
        "  'Hurray Hurray Hurray Hurray !!!'\n",
        "  >>> elp_cheer('hurray', 5, False)\n",
        "  'hurray hurray hurray hurray hurray !!!'\n",
        "  '''\n",
        "  cheerword = f'{word.upper()} ' * number if case else f'{word.title()} ' * number\n",
        "  return f'{cheerword}!!!'"
      ],
      "metadata": {
        "id": "JuLJ12Oe-Pf5"
      },
      "id": "JuLJ12Oe-Pf5",
      "execution_count": null,
      "outputs": []
    },
    {
      "cell_type": "code",
      "source": [
        "elp_cheer('hurray', 3, True)"
      ],
      "metadata": {
        "colab": {
          "base_uri": "https://localhost:8080/",
          "height": 35
        },
        "id": "EYmurREK-gZH",
        "outputId": "fec95d48-ef1d-4004-eb50-b8fb504da918"
      },
      "id": "EYmurREK-gZH",
      "execution_count": null,
      "outputs": [
        {
          "output_type": "execute_result",
          "data": {
            "text/plain": [
              "'HURRAY HURRAY HURRAY !!!'"
            ],
            "application/vnd.google.colaboratory.intrinsic+json": {
              "type": "string"
            }
          },
          "metadata": {},
          "execution_count": 7
        }
      ]
    },
    {
      "cell_type": "code",
      "source": [
        "elp_cheer('Hurray', 4, False)"
      ],
      "metadata": {
        "colab": {
          "base_uri": "https://localhost:8080/",
          "height": 35
        },
        "id": "KreKxVLS-kmp",
        "outputId": "65abbad1-87e1-4a79-95e1-437360bd790c"
      },
      "id": "KreKxVLS-kmp",
      "execution_count": null,
      "outputs": [
        {
          "output_type": "execute_result",
          "data": {
            "text/plain": [
              "'Hurray Hurray Hurray Hurray !!!'"
            ],
            "application/vnd.google.colaboratory.intrinsic+json": {
              "type": "string"
            }
          },
          "metadata": {},
          "execution_count": 8
        }
      ]
    },
    {
      "cell_type": "code",
      "source": [
        "elp_cheer('hurray', 5, False)"
      ],
      "metadata": {
        "colab": {
          "base_uri": "https://localhost:8080/",
          "height": 35
        },
        "id": "Nw43YPPA-nuj",
        "outputId": "31dc86e7-0ba9-4589-994e-64224e1a2150"
      },
      "id": "Nw43YPPA-nuj",
      "execution_count": null,
      "outputs": [
        {
          "output_type": "execute_result",
          "data": {
            "text/plain": [
              "'Hurray Hurray Hurray Hurray Hurray !!!'"
            ],
            "application/vnd.google.colaboratory.intrinsic+json": {
              "type": "string"
            }
          },
          "metadata": {},
          "execution_count": 9
        }
      ]
    },
    {
      "cell_type": "markdown",
      "id": "351973d9",
      "metadata": {
        "id": "351973d9"
      },
      "source": [
        "## Question 3 [30 Marks] :\n",
        "Write a program that reads in the `elp_sales.csv` and compute and display the maximum, minimum and average profit for countries in **Australia and Oceania region**. For each country in the Australia and Oceania region, plot their total profit. \n",
        "\n",
        "*(Hint: read the CSV into a Pandas dataframe, create a new dataframe for the region, and use the new dataframe for the calculations and bar chart. Compute the total profit before computing the max, min and average)*. \n",
        "\n",
        "Save your answer booklet to your GitHub repository.\n"
      ]
    },
    {
      "cell_type": "code",
      "source": [
        "import pandas as pd\n",
        "df = pd.read_csv('elp_sales_data.csv')  # read in the csv file\n",
        "df = df[df['Region'] == 'Australia and Oceania']  # only keep observations in Australia and Oceania\n",
        "df['Total Profit'] = df['Total Revenue'] - df['Total Cost']  # calculate Total Profit by subtracting Total Cost from Total Revenue\n",
        "df.describe()[['Total Profit']].loc[['max', 'min', 'mean']]  # calculate the max, min and mean value of Total Profit"
      ],
      "metadata": {
        "id": "gnj4A5FTpjLt",
        "colab": {
          "base_uri": "https://localhost:8080/",
          "height": 143
        },
        "outputId": "b5cdc649-2e1f-4ac7-eb3e-70e68a243f50"
      },
      "id": "gnj4A5FTpjLt",
      "execution_count": null,
      "outputs": [
        {
          "output_type": "execute_result",
          "data": {
            "text/plain": [
              "      Total Profit\n",
              "max   1.678541e+06\n",
              "min   5.270670e+03\n",
              "mean  4.292873e+05"
            ],
            "text/html": [
              "\n",
              "  <div id=\"df-690ec50d-1c60-4ba2-90ea-318f0cc86a16\">\n",
              "    <div class=\"colab-df-container\">\n",
              "      <div>\n",
              "<style scoped>\n",
              "    .dataframe tbody tr th:only-of-type {\n",
              "        vertical-align: middle;\n",
              "    }\n",
              "\n",
              "    .dataframe tbody tr th {\n",
              "        vertical-align: top;\n",
              "    }\n",
              "\n",
              "    .dataframe thead th {\n",
              "        text-align: right;\n",
              "    }\n",
              "</style>\n",
              "<table border=\"1\" class=\"dataframe\">\n",
              "  <thead>\n",
              "    <tr style=\"text-align: right;\">\n",
              "      <th></th>\n",
              "      <th>Total Profit</th>\n",
              "    </tr>\n",
              "  </thead>\n",
              "  <tbody>\n",
              "    <tr>\n",
              "      <th>max</th>\n",
              "      <td>1.678541e+06</td>\n",
              "    </tr>\n",
              "    <tr>\n",
              "      <th>min</th>\n",
              "      <td>5.270670e+03</td>\n",
              "    </tr>\n",
              "    <tr>\n",
              "      <th>mean</th>\n",
              "      <td>4.292873e+05</td>\n",
              "    </tr>\n",
              "  </tbody>\n",
              "</table>\n",
              "</div>\n",
              "      <button class=\"colab-df-convert\" onclick=\"convertToInteractive('df-690ec50d-1c60-4ba2-90ea-318f0cc86a16')\"\n",
              "              title=\"Convert this dataframe to an interactive table.\"\n",
              "              style=\"display:none;\">\n",
              "        \n",
              "  <svg xmlns=\"http://www.w3.org/2000/svg\" height=\"24px\"viewBox=\"0 0 24 24\"\n",
              "       width=\"24px\">\n",
              "    <path d=\"M0 0h24v24H0V0z\" fill=\"none\"/>\n",
              "    <path d=\"M18.56 5.44l.94 2.06.94-2.06 2.06-.94-2.06-.94-.94-2.06-.94 2.06-2.06.94zm-11 1L8.5 8.5l.94-2.06 2.06-.94-2.06-.94L8.5 2.5l-.94 2.06-2.06.94zm10 10l.94 2.06.94-2.06 2.06-.94-2.06-.94-.94-2.06-.94 2.06-2.06.94z\"/><path d=\"M17.41 7.96l-1.37-1.37c-.4-.4-.92-.59-1.43-.59-.52 0-1.04.2-1.43.59L10.3 9.45l-7.72 7.72c-.78.78-.78 2.05 0 2.83L4 21.41c.39.39.9.59 1.41.59.51 0 1.02-.2 1.41-.59l7.78-7.78 2.81-2.81c.8-.78.8-2.07 0-2.86zM5.41 20L4 18.59l7.72-7.72 1.47 1.35L5.41 20z\"/>\n",
              "  </svg>\n",
              "      </button>\n",
              "      \n",
              "  <style>\n",
              "    .colab-df-container {\n",
              "      display:flex;\n",
              "      flex-wrap:wrap;\n",
              "      gap: 12px;\n",
              "    }\n",
              "\n",
              "    .colab-df-convert {\n",
              "      background-color: #E8F0FE;\n",
              "      border: none;\n",
              "      border-radius: 50%;\n",
              "      cursor: pointer;\n",
              "      display: none;\n",
              "      fill: #1967D2;\n",
              "      height: 32px;\n",
              "      padding: 0 0 0 0;\n",
              "      width: 32px;\n",
              "    }\n",
              "\n",
              "    .colab-df-convert:hover {\n",
              "      background-color: #E2EBFA;\n",
              "      box-shadow: 0px 1px 2px rgba(60, 64, 67, 0.3), 0px 1px 3px 1px rgba(60, 64, 67, 0.15);\n",
              "      fill: #174EA6;\n",
              "    }\n",
              "\n",
              "    [theme=dark] .colab-df-convert {\n",
              "      background-color: #3B4455;\n",
              "      fill: #D2E3FC;\n",
              "    }\n",
              "\n",
              "    [theme=dark] .colab-df-convert:hover {\n",
              "      background-color: #434B5C;\n",
              "      box-shadow: 0px 1px 3px 1px rgba(0, 0, 0, 0.15);\n",
              "      filter: drop-shadow(0px 1px 2px rgba(0, 0, 0, 0.3));\n",
              "      fill: #FFFFFF;\n",
              "    }\n",
              "  </style>\n",
              "\n",
              "      <script>\n",
              "        const buttonEl =\n",
              "          document.querySelector('#df-690ec50d-1c60-4ba2-90ea-318f0cc86a16 button.colab-df-convert');\n",
              "        buttonEl.style.display =\n",
              "          google.colab.kernel.accessAllowed ? 'block' : 'none';\n",
              "\n",
              "        async function convertToInteractive(key) {\n",
              "          const element = document.querySelector('#df-690ec50d-1c60-4ba2-90ea-318f0cc86a16');\n",
              "          const dataTable =\n",
              "            await google.colab.kernel.invokeFunction('convertToInteractive',\n",
              "                                                     [key], {});\n",
              "          if (!dataTable) return;\n",
              "\n",
              "          const docLinkHtml = 'Like what you see? Visit the ' +\n",
              "            '<a target=\"_blank\" href=https://colab.research.google.com/notebooks/data_table.ipynb>data table notebook</a>'\n",
              "            + ' to learn more about interactive tables.';\n",
              "          element.innerHTML = '';\n",
              "          dataTable['output_type'] = 'display_data';\n",
              "          await google.colab.output.renderOutput(dataTable, element);\n",
              "          const docLink = document.createElement('div');\n",
              "          docLink.innerHTML = docLinkHtml;\n",
              "          element.appendChild(docLink);\n",
              "        }\n",
              "      </script>\n",
              "    </div>\n",
              "  </div>\n",
              "  "
            ]
          },
          "metadata": {},
          "execution_count": 11
        }
      ]
    },
    {
      "cell_type": "code",
      "source": [
        "df.set_index('Country')['Total Profit'].plot(kind='bar', figsize=(20, 10))"
      ],
      "metadata": {
        "colab": {
          "base_uri": "https://localhost:8080/",
          "height": 778
        },
        "id": "yePtoU_BCNvw",
        "outputId": "cc6ad2b1-b9ee-45f0-b76e-dfa617d3fe77"
      },
      "id": "yePtoU_BCNvw",
      "execution_count": null,
      "outputs": [
        {
          "output_type": "execute_result",
          "data": {
            "text/plain": [
              "<matplotlib.axes._subplots.AxesSubplot at 0x7fed1e8d96d0>"
            ]
          },
          "metadata": {},
          "execution_count": 12
        },
        {
          "output_type": "display_data",
          "data": {
            "text/plain": [
              "<Figure size 1440x720 with 1 Axes>"
            ],
            "image/png": "[encoded data removed]"
          },
          "metadata": {
            "needs_background": "light"
          }
        }
      ]
    },
    {
      "cell_type": "markdown",
      "source": [
        "## Question 4 [10 Marks]\n",
        "Write a report reflecting on the lectures, workshops, and assessments for this unit, and discuss whether we achieved the unit's learning outcomes. As an appendix to the report, please include a copy of the body of all your weekly journals in a Word document. Submit the word document via the Turnitin link on Blackboard.\n",
        "\n",
        "** DO NOT ANSWER HERE ** Your answer to Question 4 is to be completed in a Word Document."
      ],
      "metadata": {
        "id": "2EXbKLCuH5iH"
      },
      "id": "2EXbKLCuH5iH"
    }
  ],
  "metadata": {
    "kernelspec": {
      "display_name": "Python 3 (ipykernel)",
      "language": "python",
      "name": "python3"
    },
    "language_info": {
      "codemirror_mode": {
        "name": "ipython",
        "version": 3
      },
      "file_extension": ".py",
      "mimetype": "text/x-python",
      "name": "python",
      "nbconvert_exporter": "python",
      "pygments_lexer": "ipython3",
      "version": "3.9.7"
    },
    "colab": {
      "provenance": [],
      "collapsed_sections": [],
      "include_colab_link": true
    }
  },
  "nbformat": 4,
  "nbformat_minor": 5
}